{
 "cells": [
  {
   "cell_type": "markdown",
   "metadata": {},
   "source": [
    "# The Battle of Neighborhoods"
   ]
  },
  {
   "cell_type": "markdown",
   "metadata": {},
   "source": [
    "## CasaGrande's Big Launch in Barcelona"
   ]
  },
  {
   "cell_type": "markdown",
   "metadata": {},
   "source": [
    "## Introduction and Problem Statement"
   ]
  },
  {
   "cell_type": "markdown",
   "metadata": {},
   "source": [
    "### 1. Backround\n",
    "    Barcelona is a city in Spain. It is the capital and largest city of the autonomous community of Catalonia, as well as the second most populous municipality of Spain. With a population of 1.6 million within city limits its urban area extends to numerous neighbouring municipalities within the Province of Barcelona and is home to around 4.8 million people making it the sixth most populous urban area in the European Union after Paris, London, Madrid, the Ruhr area and Milan It is one of the largest metropolises on the Mediterranean Sea, located on the coast between the mouths of the rivers Llobregat and Besòs, and bounded to the west by the Serra de Collserola mountain range, the tallest peak of which is 512 metres (1,680 feet) high.\n",
    "    \n",
    "    With 8.3 million visitors in 2015, Barcelona is one of Europe’s most popular cities. Barcelona’s popularity has in fact been steadily increasing since 2010 (which saw 7.13 million visitors), and tourist numbers have more than doubled since 2000.\n",
    "    \n",
    "    1. Economy\n",
    "    The current state of the Spanish economy is a good indicator of the overall health of the Barcelona property market: loan defaults in Spanish banks are down, which indicates that Spanish people are earning more, meaning that the country’s economy is gaining momentum; this is backed by the country’s predicted GDP increase of 3.2%, which is one of the fastest increase rates in Europe.\n",
    "    \n",
    "    2. Destination\n",
    "    Due to the city’s popularity as a holiday destination, luxury property is an especially profitable part of the Barcelona real estate market: as the 12th most visited city in the world, and among the top 5 most visited cities in Europe, Barcelona will likely always have a healthy interest from high-net-worth foreigners looking to buy or rent high-end properties in the city.\n",
    "    \n",
    "    3.Infrastructure\n",
    "    Barcelona’s infrastructure should also be taken into consideration when thinking about investment. Transport and communication links in the city are exemplary, with high-functioning airports, high-speed rail networks, and busy trade ports bolstering the city’s economy. "
   ]
  },
  {
   "cell_type": "markdown",
   "metadata": {},
   "source": [
    "#### 2. Problem Statement\n",
    "\n",
    "    From all the fun facts, looks like Barcelona seems to be a great place to bloom the real estate business.CasaGrande is a real estate agency based out of Italy and it is looking to expand it horizon in Spain, starting with Bacelona which the 2nd largest city. Barcelona, the cosmopolitan capital of Spain’s Catalonia region, is known for its art and architecture. \n",
    "\n",
    "    For CasaGrande to be successful in Barcelona, it needs to analyse the neighborhood and find it's initial launch location. Thus the real estate company has decided to  build out a data product and derive at conclusions to help them understand which areas would generate the most profit."
   ]
  },
  {
   "cell_type": "markdown",
   "metadata": {},
   "source": [
    "#### 3. The Approach\n",
    "\n",
    "    CasaGrande has decided to identify the top 5 neighborhood in the city of Barcelona to ground break it's business. Further then it will use it's best successful advertising and capaign power to build its stable business and retain loyal customers. \n",
    "    \n",
    "    For this the company will be leverage the machine learning techniques and data science to attain its goal which provides a great edge in supporting their decision in every step of the way"
   ]
  },
  {
   "cell_type": "code",
   "execution_count": null,
   "metadata": {},
   "outputs": [],
   "source": []
  },
  {
   "cell_type": "markdown",
   "metadata": {},
   "source": [
    "## Data Description"
   ]
  },
  {
   "cell_type": "markdown",
   "metadata": {},
   "source": [
    "1. GEONAMES.ORG\n",
    "\n",
    "    Geospatial and zipcode data was pulled from Geonames Geographical Database https://www.geonames.org/postalcode-search.html?q=barcelona&country=ES. These data will be loaded from the address with the help of the python requests module. \n",
    "    \n",
    "    \n",
    "2. FourSquare\n",
    "\n",
    "    For this project we will use the knowledge acquired in course 9 to use the benefits of the Forsquare API to explore data from cities and neighborhoods, and data that is relevant for people who travel such as coffee shops, hotels, restaurants that can visit and be close, theaters and many places for which to have a choice.\n",
    " \n",
    "3. National Institute of Statistics\n",
    "   \n",
    "   We also will be using the daat from http://www.ine.es/dynt3/inebase/index.htm?padre=525 which provides us with population data in each Munipality in Barcelona.\n",
    "    \n",
    "    \n",
    "   From the data pulled from GeoNames, we can extract coordinates and identify the neighboods in Barcelona. We can use the FourSquare API he Foursquare API to explore neighborhoods in Barcelona City. As well use the explore function to get the most common venue categories in each neighborhood, and then use this feature to group the neighborhoods into clusters."
   ]
  },
  {
   "cell_type": "markdown",
   "metadata": {},
   "source": [
    "##### Sample Data From GEONAMES.ORG"
   ]
  },
  {
   "cell_type": "markdown",
   "metadata": {},
   "source": [
    "<img src=\"data.png\" style=\"float: left; margin-right: 10px;\" height=\"750\" width=\"750\">"
   ]
  },
  {
   "cell_type": "markdown",
   "metadata": {},
   "source": [
    "##### Sample Data From National Institute of Statistics"
   ]
  },
  {
   "cell_type": "markdown",
   "metadata": {},
   "source": [
    "<img src=\"Population Data.png\" style=\"float: left; margin-right: 10px;\" height=\"750\" width=\"750\">"
   ]
  }
 ],
 "metadata": {
  "kernelspec": {
   "display_name": "Python 3",
   "language": "python",
   "name": "python3"
  },
  "language_info": {
   "codemirror_mode": {
    "name": "ipython",
    "version": 3
   },
   "file_extension": ".py",
   "mimetype": "text/x-python",
   "name": "python",
   "nbconvert_exporter": "python",
   "pygments_lexer": "ipython3",
   "version": "3.6.7"
  }
 },
 "nbformat": 4,
 "nbformat_minor": 4
}
