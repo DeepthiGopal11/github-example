{
 "cells": [
  {
   "cell_type": "markdown",
   "metadata": {},
   "source": [
    "# The Battle of Neighborhoods"
   ]
  },
  {
   "cell_type": "markdown",
   "metadata": {},
   "source": [
    "## CasaGrande's Big Launch in Barcelona"
   ]
  },
  {
   "cell_type": "markdown",
   "metadata": {},
   "source": [
    "## Introduction and Problem Statement"
   ]
  },
  {
   "cell_type": "markdown",
   "metadata": {},
   "source": [
    "### 1. Backround\n",
    "    Barcelona is a city in Spain. It is the capital and largest city of the autonomous community of Catalonia, as well as the second most populous municipality of Spain. With a population of 1.6 million within city limits its urban area extends to numerous neighbouring municipalities within the Province of Barcelona and is home to around 4.8 million people making it the sixth most populous urban area in the European Union after Paris, London, Madrid, the Ruhr area and Milan It is one of the largest metropolises on the Mediterranean Sea, located on the coast between the mouths of the rivers Llobregat and Besòs, and bounded to the west by the Serra de Collserola mountain range, the tallest peak of which is 512 metres (1,680 feet) high.\n",
    "    \n",
    "    With 8.3 million visitors in 2015, Barcelona is one of Europe’s most popular cities. Barcelona’s popularity has in fact been steadily increasing since 2010 (which saw 7.13 million visitors), and tourist numbers have more than doubled since 2000.\n",
    "    \n",
    "    1. Economy\n",
    "    The current state of the Spanish economy is a good indicator of the overall health of the Barcelona property market: loan defaults in Spanish banks are down, which indicates that Spanish people are earning more, meaning that the country’s economy is gaining momentum; this is backed by the country’s predicted GDP increase of 3.2%, which is one of the fastest increase rates in Europe.\n",
    "    \n",
    "    2. Destination\n",
    "    Due to the city’s popularity as a holiday destination, luxury property is an especially profitable part of the Barcelona real estate market: as the 12th most visited city in the world, and among the top 5 most visited cities in Europe, Barcelona will likely always have a healthy interest from high-net-worth foreigners looking to buy or rent high-end properties in the city.\n",
    "    \n",
    "    3.Infrastructure\n",
    "    Barcelona’s infrastructure should also be taken into consideration when thinking about investment. Transport and communication links in the city are exemplary, with high-functioning airports, high-speed rail networks, and busy trade ports bolstering the city’s economy. "
   ]
  },
  {
   "cell_type": "markdown",
   "metadata": {},
   "source": [
    "#### 2. Problem Statement\n",
    "\n",
    "    From all the fun facts, looks like Barcelona seems to be a great place to bloom the real estate business.CasaGrande is a real estate agency based out of Italy and it is looking to expand it horizon in Spain, starting with Bacelona which the 2nd largest city. Barcelona, the cosmopolitan capital of Spain’s Catalonia region, is known for its art and architecture. \n",
    "\n",
    "    For CasaGrande to be successful in Barcelona, it needs to analyse the neighborhood and find it's initial launch location. Thus the real estate company has decided to  build out a data product and derive at conclusions to help them understand which areas would generate the most profit."
   ]
  },
  {
   "cell_type": "markdown",
   "metadata": {},
   "source": [
    "#### 3. The Approach\n",
    "\n",
    "    CasaGrande has decided to identify the top 5 neighborhood in the city of Barcelona to ground break it's business. Further then it will use it's best successful advertising and campaign power to build its stable business and retain loyal customers. \n",
    "    \n",
    "    For this the company will be leverage the machine learning techniques and data science to attain its goal which provides a great edge in supporting their decision in every step of the way"
   ]
  },
  {
   "cell_type": "markdown",
   "metadata": {},
   "source": [
    "## Data Description"
   ]
  },
  {
   "cell_type": "markdown",
   "metadata": {},
   "source": [
    "1. GEONAMES.ORG\n",
    "\n",
    "    Geospatial and zipcode data was pulled from Geonames Geographical Database https://www.geonames.org/postalcode-search.html?q=barcelona&country=ES. These data will be loaded from the address with the help of the python requests module. \n",
    "    \n",
    "    \n",
    "2. FourSquare\n",
    "\n",
    "    For this project we will use the knowledge acquired in course 9 to use the benefits of the Forsquare API to explore data from cities and neighborhoods, and data that is relevant for people who travel such as coffee shops, hotels, restaurants that can visit and be close, theaters and many places for which to have a choice.\n",
    " \n",
    "3. National Institute of Statistics\n",
    "   \n",
    "   We also will be using the data from http://www.ine.es/dynt3/inebase/index.htm?padre=525 which provides us with population data in each Munipality in Barcelona. This data will help us map the population in each neighborhood and which in return will help us understand a strong neighborhood community where real estate will bloom.\n",
    "    \n",
    "    \n",
    "   From the data pulled from GeoNames, we can extract coordinates and identify the neighboods in Barcelona. We can use the FourSquare API he Foursquare API to explore neighborhoods in Barcelona City. As well use the explore function to get the most common venue categories in each neighborhood, and then use this feature to group the neighborhoods into clusters."
   ]
  },
  {
   "cell_type": "markdown",
   "metadata": {},
   "source": [
    "##### Sample Data From GEONAMES.ORG"
   ]
  },
  {
   "cell_type": "markdown",
   "metadata": {},
   "source": [
    "<img src=\"data.png\" style=\"float: left; margin-right: 10px;\" height=\"750\" width=\"750\">"
   ]
  },
  {
   "cell_type": "markdown",
   "metadata": {},
   "source": [
    "##### Sample Data From National Institute of Statistics"
   ]
  },
  {
   "cell_type": "markdown",
   "metadata": {},
   "source": [
    "<img src=\"Population Data.png\" style=\"float: left; margin-right: 10px;\" height=\"750\" width=\"750\">"
   ]
  },
  {
   "cell_type": "markdown",
   "metadata": {},
   "source": [
    "## Methodology "
   ]
  },
  {
   "cell_type": "markdown",
   "metadata": {},
   "source": [
    "##### 1. Data Processing  \n",
    "\n",
    "    Data was extracted from the above mentioned sources and successfully placed in a DataFrame for further processing. The data from Geonames that contains the latitude and longitude needed further extraction to be placed in their respective columns. The coordinates that are inserted in the form of rows were placed in new columns named as latitude and longitude. Duplicates data was removed. Data from with the population details did not require any transformation and hence fitted perfectly in line with the geonames data.\n",
    "    Below is a snippet how how the data looks after pre-processing and loaded into a df\n",
    "\n",
    "   <img src=\"Fig 1.png\" style=\"float: left; margin-right: 10px;\" height=\"750\" width=\"1200\">\n",
    "\n",
    "\n",
    "##### 2.Exploring the Data \n",
    "\n",
    "        Using geopy library to getting the latitude and longitude values of Barcelona. Creating a map of Barcelona with neighborhoods superimposed on top show that there is a good spread of points across the county. This done using folium\n",
    "   \n",
    " \n",
    "   <img src=\"ExploringNeighborhood.png\" style=\"float: left; margin-right: 10px;\" height=\"750\" width=\"1200\">\n",
    "   \n",
    "\n",
    "##### 3.Analysing Neighborhoods in Barcelona \n",
    "        \n",
    "        Lets use foursquare to let's get the top 100 venues that are in Barcelona within a radius of 500 meters and print each neighborhood along with the top 5 most common venues. In order to avoid overlapping, we decide to limit our search of businesses to 500 meters around each of these locations. We use the Foursquare API to create a dataframe of which includes, the business name, the type of business, and neighborhood in which it resides.\n",
    "        \n",
    "   <img src=\"Venue.png\" style=\"float: left; margin-right: 10px;\" height=\"750\" width=\"1200\">\n",
    "\n",
    "    Grouping the data by Neighbours and summarizing the data allows us to the see the frequency of most popular catogories of Venues. \n",
    "    \n",
    "   <img src=\"Frequency.png\" style=\"float: left; margin-right: 10px;\" height=\"750\" width=\"1200\">\n",
    "     \n",
    "    Final step in this process would be to merge the data with Barcelona Data and render a new dataframe with top 10 venues for each neighborhood.\n",
    "    This will serve as the input for K Means Clustering\n",
    "    \n",
    "   <img src=\"groupvenue.png\" style=\"float: left; margin-right: 10px;\" height=\"750\" width=\"1200\">\n",
    "   \n",
    " ##### 4.K-means Clustering \n",
    " \n",
    "     This is a method of vector quantization aims to partition n observations into k clusters in which each observation belongs to the cluster with the nearest mean, serving as a prototype of the cluster. K-means clustering tends to find clusters of comparable spatial extent, while the expectationmaximization mechanism allows clusters to have different shapes. \n",
    "    \n",
    "    K-means Clustering Algorithm is applied to partition the final data frame into k(=10) partitions (clusters). The data was normalized using the MinMaxScaler from the sklearn library in Python and then fed to the KMeans cluster object to be fitted.We create another dataframe from this which shows the average amount of each business type per Neighborhood. Finally, we use the common types of businesses around each Neighborhood to put them into 10 clusters. In other words, each group contains Neighborhood with similar types of business. \n",
    "     \n",
    "     Since the data is wide as seen from above map, I had to choose 10 clusters otherwise each cluster will be too crowded\n",
    "    \n",
    "   <img src=\"Clustered dataset.png\" style=\"float: left; margin-right: 10px;\" height=\"750\" width=\"1200\">\n",
    "   \n",
    "   <img src=\"clustercount.png\" style=\"float: left; margin-right: 10px;\" height=\"750\" width=\"1200\">\n",
    "   \n",
    "    For the final piece of visualization, I leveraged the folium package by inputting the necessary details like the desired number of clusters, Neighborhood, lat and long as shown below \n",
    "    \n",
    "   <img src=\"clustered.png\" style=\"float: left; margin-right: 10px;\" height=\"750\" width=\"1200\">\n",
    "\n",
    "#### 5.Examine the Clusters\n",
    "\n",
    "    All clusters have restaurants in common, we going to pick a few in particular and check the features associated\n",
    "    • Cluster 0 – Features : Restaurants, Women's store, Fountain, Flee Market\n",
    "    • Cluster 4 – Features : High population, Near by neighborhoods like restaurants, super market, movie theatres, soccer field, Rock climbing\n",
    "    • Cluster 8  – Features : 2nd Highest population, Bus station, Restaurants, Plaza, Flee Market\n",
    "    \n",
    "  <img src=\"barcelona.png\" style=\"float: left; margin-right: 10px;\" height=\"750\" width=\"515\">\n",
    "  <img src=\"badalona.png\" style=\"float: left; margin-right: 10px;\" height=\"750\" width=\"515\">\n",
    "  <img src=\"Sandell.png\" style=\"float: left; margin-right: 10px;\" height=\"750\" width=\"515\">\n",
    "  <img src=\"terrassa.png\" style=\"float: left; margin-right: 10px;\" height=\"750\" width=\"515\">\n",
    "  \n",
    "  \n",
    "  \n",
    "    It is seen that Barcelona and Sandell fall under the same cluster while Badalona and Terrassa fall under the same cluster. And these take 1 - 4 position in terms of population as well.\n",
    "\n",
    "#### 6. The Population Dataset\n",
    "        \n",
    "        Exploring the population Dataset, its obvious that Barcelona city sweeps the floor with the highest population. Followed by Terrassa and Badalona. This gives us an edge in determining which place should be given a better proirity. \n",
    "        \n",
    "   <img src=\"Population.png\" style=\"float: left; margin-right: 10px;\" height=\"750\" width=\"1200\">\n",
    "   \n",
    "   <img src=\"bar.png\" style=\"float: left; margin-right: 10px;\" height=\"750\" width=\"1200\">\n",
    "\n",
    "\n",
    "##  Conclusion\n",
    "\n",
    "         Barcelona is a very touristy place, it is seen that Cluster 8 has the highest population and almost all clusters includes restuarants. If CasaGrande would like to start a real estate business in Barcelona it should focus on areas like Barcelona City, Terrassa, Sandell, Badalona and Castelledefels. But we need to take into consideration other factors like schools,income statistics,safetly befor entering. Machine Learning is an ocean if we can get hold of the other important factoring data like education, income etc, we can perform better analysis and come to a better conclusion\n",
    "         \n",
    "         However the company can start inversting in these location in the form of listing like airBnB or Hotels since looks like most of the population is floating and the venues are very touristy.\n",
    "            \n",
    "        This data allows us to not only see the types of business around each neighborhood, but the larger areas in which those businesses are concentrated. Therefore we can determine the most beneficial places to advertise depending on our companies goals and in what way we should proceed in doing so.\n",
    "        \n",
    "\n",
    "    "
   ]
  },
  {
   "cell_type": "code",
   "execution_count": null,
   "metadata": {},
   "outputs": [],
   "source": []
  }
 ],
 "metadata": {
  "kernelspec": {
   "display_name": "Python 3",
   "language": "python",
   "name": "python3"
  },
  "language_info": {
   "codemirror_mode": {
    "name": "ipython",
    "version": 3
   },
   "file_extension": ".py",
   "mimetype": "text/x-python",
   "name": "python",
   "nbconvert_exporter": "python",
   "pygments_lexer": "ipython3",
   "version": "3.6.7"
  }
 },
 "nbformat": 4,
 "nbformat_minor": 4
}
